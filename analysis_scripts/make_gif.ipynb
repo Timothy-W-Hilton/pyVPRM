{
 "cells": [
  {
   "cell_type": "code",
   "execution_count": 2,
   "id": "85e5a84d-9f38-45b3-b9a5-12a59b4a150d",
   "metadata": {},
   "outputs": [],
   "source": [
    "%matplotlib inline\n",
    "import sys\n",
    "sys.path.append('../lib/')\n",
    "from fancy_plot import *\n",
    "import imageio\n",
    "import glob\n",
    "import numpy as np\n"
   ]
  },
  {
   "cell_type": "markdown",
   "id": "ff797850-5dca-49a0-9608-679c0fcec30e",
   "metadata": {},
   "source": [
    "# From PNGs"
   ]
  },
  {
   "cell_type": "code",
   "execution_count": 2,
   "id": "a427332f-18a6-4d87-9dc2-86a7465697ac",
   "metadata": {
    "tags": []
   },
   "outputs": [
    {
     "ename": "NameError",
     "evalue": "name 'files' is not defined",
     "output_type": "error",
     "traceback": [
      "\u001b[0;31m---------------------------------------------------------------------------\u001b[0m",
      "\u001b[0;31mNameError\u001b[0m                                 Traceback (most recent call last)",
      "Input \u001b[0;32mIn [2]\u001b[0m, in \u001b[0;36m<cell line: 1>\u001b[0;34m()\u001b[0m\n\u001b[0;32m----> 1\u001b[0m imgs \u001b[38;5;241m=\u001b[39m  [imageio\u001b[38;5;241m.\u001b[39mv2\u001b[38;5;241m.\u001b[39mimread(i) \u001b[38;5;28;01mfor\u001b[39;00m i \u001b[38;5;129;01min\u001b[39;00m \u001b[43mfiles\u001b[49m]\n",
      "\u001b[0;31mNameError\u001b[0m: name 'files' is not defined"
     ]
    }
   ],
   "source": [
    "imgs =  [imageio.v2.imread(i) for i in files]"
   ]
  },
  {
   "cell_type": "code",
   "execution_count": 3,
   "id": "2c0ad8fe-383b-43dc-8b4c-cf2234052397",
   "metadata": {
    "tags": []
   },
   "outputs": [],
   "source": [
    "# imageio.mimsave('/work/bd1231/tglauch/temp/movie.gif',\n",
    "#                 imgs, duration=d)"
   ]
  },
  {
   "cell_type": "code",
   "execution_count": 3,
   "id": "76c2c04e-978f-40e1-9c4e-12a37cd12317",
   "metadata": {
    "tags": []
   },
   "outputs": [],
   "source": [
    "files = sorted(glob.glob('/home/b/b309233/temp/temperature_anomaly_*.png'))"
   ]
  },
  {
   "cell_type": "code",
   "execution_count": 6,
   "id": "10ea38d6-02ad-4839-bf57-237e2a73af3f",
   "metadata": {
    "tags": []
   },
   "outputs": [],
   "source": [
    "d = [int(i)+75 for i in (np.arange(2, (len(files)+2))/10)**3]\n",
    "d[-1]= 1e5"
   ]
  },
  {
   "cell_type": "code",
   "execution_count": 8,
   "id": "0dc14627-a9d9-4bd7-aec6-f13c37566fd1",
   "metadata": {},
   "outputs": [
    {
     "name": "stdout",
     "output_type": "stream",
     "text": [
      "75 /home/b/b309233/temp/temperature_anomaly_1960.png\n",
      "75 /home/b/b309233/temp/temperature_anomaly_1961.png\n",
      "75 /home/b/b309233/temp/temperature_anomaly_1962.png\n",
      "75 /home/b/b309233/temp/temperature_anomaly_1963.png\n",
      "75 /home/b/b309233/temp/temperature_anomaly_1964.png\n",
      "75 /home/b/b309233/temp/temperature_anomaly_1965.png\n",
      "75 /home/b/b309233/temp/temperature_anomaly_1966.png\n",
      "75 /home/b/b309233/temp/temperature_anomaly_1967.png\n",
      "76 /home/b/b309233/temp/temperature_anomaly_1968.png\n",
      "76 /home/b/b309233/temp/temperature_anomaly_1969.png\n",
      "76 /home/b/b309233/temp/temperature_anomaly_1970.png\n",
      "77 /home/b/b309233/temp/temperature_anomaly_1971.png\n",
      "77 /home/b/b309233/temp/temperature_anomaly_1972.png\n",
      "78 /home/b/b309233/temp/temperature_anomaly_1973.png\n",
      "79 /home/b/b309233/temp/temperature_anomaly_1974.png\n",
      "79 /home/b/b309233/temp/temperature_anomaly_1975.png\n",
      "80 /home/b/b309233/temp/temperature_anomaly_1976.png\n",
      "81 /home/b/b309233/temp/temperature_anomaly_1977.png\n",
      "83 /home/b/b309233/temp/temperature_anomaly_1978.png\n",
      "84 /home/b/b309233/temp/temperature_anomaly_1979.png\n",
      "85 /home/b/b309233/temp/temperature_anomaly_1980.png\n",
      "87 /home/b/b309233/temp/temperature_anomaly_1981.png\n",
      "88 /home/b/b309233/temp/temperature_anomaly_1982.png\n",
      "90 /home/b/b309233/temp/temperature_anomaly_1983.png\n",
      "92 /home/b/b309233/temp/temperature_anomaly_1984.png\n",
      "94 /home/b/b309233/temp/temperature_anomaly_1985.png\n",
      "96 /home/b/b309233/temp/temperature_anomaly_1986.png\n",
      "99 /home/b/b309233/temp/temperature_anomaly_1987.png\n",
      "102 /home/b/b309233/temp/temperature_anomaly_1988.png\n",
      "104 /home/b/b309233/temp/temperature_anomaly_1989.png\n",
      "107 /home/b/b309233/temp/temperature_anomaly_1990.png\n",
      "110 /home/b/b309233/temp/temperature_anomaly_1991.png\n",
      "114 /home/b/b309233/temp/temperature_anomaly_1992.png\n",
      "117 /home/b/b309233/temp/temperature_anomaly_1993.png\n",
      "121 /home/b/b309233/temp/temperature_anomaly_1994.png\n",
      "125 /home/b/b309233/temp/temperature_anomaly_1995.png\n",
      "129 /home/b/b309233/temp/temperature_anomaly_1996.png\n",
      "134 /home/b/b309233/temp/temperature_anomaly_1997.png\n",
      "139 /home/b/b309233/temp/temperature_anomaly_1998.png\n",
      "143 /home/b/b309233/temp/temperature_anomaly_1999.png\n",
      "149 /home/b/b309233/temp/temperature_anomaly_2000.png\n",
      "154 /home/b/b309233/temp/temperature_anomaly_2001.png\n",
      "160 /home/b/b309233/temp/temperature_anomaly_2002.png\n",
      "166 /home/b/b309233/temp/temperature_anomaly_2003.png\n",
      "172 /home/b/b309233/temp/temperature_anomaly_2004.png\n",
      "178 /home/b/b309233/temp/temperature_anomaly_2005.png\n",
      "185 /home/b/b309233/temp/temperature_anomaly_2006.png\n",
      "192 /home/b/b309233/temp/temperature_anomaly_2007.png\n",
      "200 /home/b/b309233/temp/temperature_anomaly_2008.png\n",
      "207 /home/b/b309233/temp/temperature_anomaly_2009.png\n",
      "215 /home/b/b309233/temp/temperature_anomaly_2010.png\n",
      "223 /home/b/b309233/temp/temperature_anomaly_2011.png\n",
      "232 /home/b/b309233/temp/temperature_anomaly_2012.png\n",
      "241 /home/b/b309233/temp/temperature_anomaly_2013.png\n",
      "250 /home/b/b309233/temp/temperature_anomaly_2014.png\n",
      "260 /home/b/b309233/temp/temperature_anomaly_2015.png\n",
      "270 /home/b/b309233/temp/temperature_anomaly_2016.png\n",
      "280 /home/b/b309233/temp/temperature_anomaly_2017.png\n",
      "291 /home/b/b309233/temp/temperature_anomaly_2018.png\n",
      "301 /home/b/b309233/temp/temperature_anomaly_2019.png\n",
      "313 /home/b/b309233/temp/temperature_anomaly_2020.png\n",
      "325 /home/b/b309233/temp/temperature_anomaly_2021.png\n",
      "337 /home/b/b309233/temp/temperature_anomaly_2022.png\n",
      "100000.0 /home/b/b309233/temp/temperature_anomaly_2023.png\n"
     ]
    }
   ],
   "source": [
    "with imageio.v2.get_writer('/work/bd1231/tglauch/temp/movie.gif', mode='i',\n",
    "                        duration=d) as writer:\n",
    "    for c, filename in enumerate(files):\n",
    "        print(d[c], filename)\n",
    "        image = imageio.v2.imread(filename)\n",
    "        writer.append_data(image)"
   ]
  },
  {
   "cell_type": "code",
   "execution_count": 3,
   "id": "f3ab4984-fc29-42b5-bf85-fb1657f67545",
   "metadata": {},
   "outputs": [],
   "source": [
    "# from pygifsicle import optimize\n",
    "# optimize('/work/bd1231/tglauch/gpp_eu_2015/movie.gif')"
   ]
  },
  {
   "cell_type": "code",
   "execution_count": null,
   "id": "0703b8f0-12f1-4550-b4b1-1e2ce7aa9975",
   "metadata": {},
   "outputs": [],
   "source": [
    "import xarray as xr"
   ]
  },
  {
   "cell_type": "markdown",
   "id": "3b5dae2b-d9f2-4a5b-bbec-dedd8c1e86e1",
   "metadata": {},
   "source": [
    "# From NEE/GPP HDF Files"
   ]
  },
  {
   "cell_type": "code",
   "execution_count": 1,
   "id": "434acfea-dab6-42eb-b6d0-ec7d15e6c874",
   "metadata": {
    "tags": []
   },
   "outputs": [
    {
     "ename": "NameError",
     "evalue": "name 'glob' is not defined",
     "output_type": "error",
     "traceback": [
      "\u001b[0;31m---------------------------------------------------------------------------\u001b[0m",
      "\u001b[0;31mNameError\u001b[0m                                 Traceback (most recent call last)",
      "Input \u001b[0;32mIn [1]\u001b[0m, in \u001b[0;36m<cell line: 1>\u001b[0;34m()\u001b[0m\n\u001b[0;32m----> 1\u001b[0m t \u001b[38;5;241m=\u001b[39m \u001b[38;5;28msorted\u001b[39m(\u001b[43mglob\u001b[49m\u001b[38;5;241m.\u001b[39mglob(\u001b[38;5;124m'\u001b[39m\u001b[38;5;124m/work/bd1231/tglauch/VPRM_output_modis_for_ida/gpp*\u001b[39m\u001b[38;5;124m'\u001b[39m))[\u001b[38;5;241m0\u001b[39m]\n",
      "\u001b[0;31mNameError\u001b[0m: name 'glob' is not defined"
     ]
    }
   ],
   "source": [
    "t = sorted(glob.glob('/work/bd1231/tglauch/VPRM_output_modis_for_ida/gpp*'))[0]"
   ]
  },
  {
   "cell_type": "code",
   "execution_count": 7,
   "id": "bbc5eb33-eeb9-4573-a8db-80928cffae3b",
   "metadata": {
    "tags": []
   },
   "outputs": [
    {
     "data": {
      "text/plain": [
       "'/work/bd1231/tglauch/VPRM_output_modis_for_ida/gpp_h17v03_001.h5'"
      ]
     },
     "execution_count": 7,
     "metadata": {},
     "output_type": "execute_result"
    }
   ],
   "source": [
    "t"
   ]
  },
  {
   "cell_type": "code",
   "execution_count": null,
   "id": "f238ed05-3645-49cc-b982-ee7ea852e697",
   "metadata": {},
   "outputs": [],
   "source": []
  }
 ],
 "metadata": {
  "kernelspec": {
   "display_name": "Python 3 (based on the module python3/2022.01)",
   "language": "python",
   "name": "python3_2022_01"
  },
  "language_info": {
   "codemirror_mode": {
    "name": "ipython",
    "version": 3
   },
   "file_extension": ".py",
   "mimetype": "text/x-python",
   "name": "python",
   "nbconvert_exporter": "python",
   "pygments_lexer": "ipython3",
   "version": "3.9.9"
  }
 },
 "nbformat": 4,
 "nbformat_minor": 5
}
