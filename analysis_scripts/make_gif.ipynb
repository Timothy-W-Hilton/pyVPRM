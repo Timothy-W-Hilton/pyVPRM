{
 "cells": [
  {
   "cell_type": "code",
   "execution_count": 1,
   "id": "85e5a84d-9f38-45b3-b9a5-12a59b4a150d",
   "metadata": {},
   "outputs": [],
   "source": [
    "import imageio\n",
    "import glob\n",
    "import numpy as np\n"
   ]
  },
  {
   "cell_type": "code",
   "execution_count": 2,
   "id": "a427332f-18a6-4d87-9dc2-86a7465697ac",
   "metadata": {
    "tags": []
   },
   "outputs": [
    {
     "ename": "NameError",
     "evalue": "name 'files' is not defined",
     "output_type": "error",
     "traceback": [
      "\u001b[0;31m---------------------------------------------------------------------------\u001b[0m",
      "\u001b[0;31mNameError\u001b[0m                                 Traceback (most recent call last)",
      "Input \u001b[0;32mIn [2]\u001b[0m, in \u001b[0;36m<cell line: 1>\u001b[0;34m()\u001b[0m\n\u001b[0;32m----> 1\u001b[0m imgs \u001b[38;5;241m=\u001b[39m  [imageio\u001b[38;5;241m.\u001b[39mv2\u001b[38;5;241m.\u001b[39mimread(i) \u001b[38;5;28;01mfor\u001b[39;00m i \u001b[38;5;129;01min\u001b[39;00m \u001b[43mfiles\u001b[49m]\n",
      "\u001b[0;31mNameError\u001b[0m: name 'files' is not defined"
     ]
    }
   ],
   "source": [
    "imgs =  [imageio.v2.imread(i) for i in files]"
   ]
  },
  {
   "cell_type": "code",
   "execution_count": 3,
   "id": "2c0ad8fe-383b-43dc-8b4c-cf2234052397",
   "metadata": {
    "tags": []
   },
   "outputs": [],
   "source": [
    "# imageio.mimsave('/work/bd1231/tglauch/temp/movie.gif',\n",
    "#                 imgs, duration=d)"
   ]
  },
  {
   "cell_type": "code",
   "execution_count": 5,
   "id": "76c2c04e-978f-40e1-9c4e-12a37cd12317",
   "metadata": {
    "tags": []
   },
   "outputs": [],
   "source": [
    "files = sorted(glob.glob('/home/b/b309233/temp/temperature_anomaly_*.png'))"
   ]
  },
  {
   "cell_type": "code",
   "execution_count": 8,
   "id": "10ea38d6-02ad-4839-bf57-237e2a73af3f",
   "metadata": {
    "tags": []
   },
   "outputs": [],
   "source": [
    "d = [int(i)+75 for i in (np.arange(2, (len(files)+2))/10)**3.7]\n",
    "d[-1]= 1e5"
   ]
  },
  {
   "cell_type": "code",
   "execution_count": 9,
   "id": "0dc14627-a9d9-4bd7-aec6-f13c37566fd1",
   "metadata": {},
   "outputs": [
    {
     "name": "stdout",
     "output_type": "stream",
     "text": [
      "75 /home/b/b309233/temp/temperature_anomaly_1960.png\n",
      "75 /home/b/b309233/temp/temperature_anomaly_1961.png\n",
      "75 /home/b/b309233/temp/temperature_anomaly_1962.png\n",
      "75 /home/b/b309233/temp/temperature_anomaly_1963.png\n",
      "75 /home/b/b309233/temp/temperature_anomaly_1964.png\n",
      "75 /home/b/b309233/temp/temperature_anomaly_1965.png\n",
      "75 /home/b/b309233/temp/temperature_anomaly_1966.png\n",
      "75 /home/b/b309233/temp/temperature_anomaly_1967.png\n",
      "76 /home/b/b309233/temp/temperature_anomaly_1968.png\n",
      "76 /home/b/b309233/temp/temperature_anomaly_1969.png\n",
      "76 /home/b/b309233/temp/temperature_anomaly_1970.png\n",
      "77 /home/b/b309233/temp/temperature_anomaly_1971.png\n",
      "78 /home/b/b309233/temp/temperature_anomaly_1972.png\n",
      "79 /home/b/b309233/temp/temperature_anomaly_1973.png\n",
      "80 /home/b/b309233/temp/temperature_anomaly_1974.png\n",
      "82 /home/b/b309233/temp/temperature_anomaly_1975.png\n",
      "83 /home/b/b309233/temp/temperature_anomaly_1976.png\n",
      "85 /home/b/b309233/temp/temperature_anomaly_1977.png\n",
      "87 /home/b/b309233/temp/temperature_anomaly_1978.png\n",
      "90 /home/b/b309233/temp/temperature_anomaly_1979.png\n",
      "93 /home/b/b309233/temp/temperature_anomaly_1980.png\n",
      "96 /home/b/b309233/temp/temperature_anomaly_1981.png\n",
      "100 /home/b/b309233/temp/temperature_anomaly_1982.png\n",
      "104 /home/b/b309233/temp/temperature_anomaly_1983.png\n",
      "109 /home/b/b309233/temp/temperature_anomaly_1984.png\n",
      "114 /home/b/b309233/temp/temperature_anomaly_1985.png\n",
      "120 /home/b/b309233/temp/temperature_anomaly_1986.png\n",
      "126 /home/b/b309233/temp/temperature_anomaly_1987.png\n",
      "133 /home/b/b309233/temp/temperature_anomaly_1988.png\n",
      "140 /home/b/b309233/temp/temperature_anomaly_1989.png\n",
      "148 /home/b/b309233/temp/temperature_anomaly_1990.png\n",
      "157 /home/b/b309233/temp/temperature_anomaly_1991.png\n",
      "167 /home/b/b309233/temp/temperature_anomaly_1992.png\n",
      "178 /home/b/b309233/temp/temperature_anomaly_1993.png\n",
      "189 /home/b/b309233/temp/temperature_anomaly_1994.png\n",
      "201 /home/b/b309233/temp/temperature_anomaly_1995.png\n",
      "214 /home/b/b309233/temp/temperature_anomaly_1996.png\n",
      "228 /home/b/b309233/temp/temperature_anomaly_1997.png\n",
      "243 /home/b/b309233/temp/temperature_anomaly_1998.png\n",
      "260 /home/b/b309233/temp/temperature_anomaly_1999.png\n",
      "277 /home/b/b309233/temp/temperature_anomaly_2000.png\n",
      "295 /home/b/b309233/temp/temperature_anomaly_2001.png\n",
      "315 /home/b/b309233/temp/temperature_anomaly_2002.png\n",
      "336 /home/b/b309233/temp/temperature_anomaly_2003.png\n",
      "358 /home/b/b309233/temp/temperature_anomaly_2004.png\n",
      "381 /home/b/b309233/temp/temperature_anomaly_2005.png\n",
      "406 /home/b/b309233/temp/temperature_anomaly_2006.png\n",
      "432 /home/b/b309233/temp/temperature_anomaly_2007.png\n",
      "460 /home/b/b309233/temp/temperature_anomaly_2008.png\n",
      "489 /home/b/b309233/temp/temperature_anomaly_2009.png\n",
      "520 /home/b/b309233/temp/temperature_anomaly_2010.png\n",
      "553 /home/b/b309233/temp/temperature_anomaly_2011.png\n",
      "587 /home/b/b309233/temp/temperature_anomaly_2012.png\n",
      "623 /home/b/b309233/temp/temperature_anomaly_2013.png\n",
      "661 /home/b/b309233/temp/temperature_anomaly_2014.png\n",
      "701 /home/b/b309233/temp/temperature_anomaly_2015.png\n",
      "742 /home/b/b309233/temp/temperature_anomaly_2016.png\n",
      "786 /home/b/b309233/temp/temperature_anomaly_2017.png\n",
      "832 /home/b/b309233/temp/temperature_anomaly_2018.png\n",
      "879 /home/b/b309233/temp/temperature_anomaly_2019.png\n",
      "929 /home/b/b309233/temp/temperature_anomaly_2020.png\n",
      "981 /home/b/b309233/temp/temperature_anomaly_2021.png\n",
      "100000.0 /home/b/b309233/temp/temperature_anomaly_2022.png\n"
     ]
    }
   ],
   "source": [
    "with imageio.v2.get_writer('/work/bd1231/tglauch/temp/movie.gif', mode='i',\n",
    "                        duration=d) as writer:\n",
    "    for c, filename in enumerate(files):\n",
    "        print(d[c], filename)\n",
    "        image = imageio.v2.imread(filename)\n",
    "        writer.append_data(image)"
   ]
  },
  {
   "cell_type": "code",
   "execution_count": 2,
   "id": "f3ab4984-fc29-42b5-bf85-fb1657f67545",
   "metadata": {},
   "outputs": [
    {
     "ename": "FileNotFoundError",
     "evalue": "The gifsicle library was not found on your system.\nOn MacOS it is automatically installed using brew when you use the pip install command.\nOn other systems, like Linux systems and Windows, it prompts the instructions to be followed for completing the installation.\nYou can learn more on how to install gifsicle on the gifsicle and pygifsicle documentation.",
     "output_type": "error",
     "traceback": [
      "\u001b[0;31m---------------------------------------------------------------------------\u001b[0m",
      "\u001b[0;31mFileNotFoundError\u001b[0m                         Traceback (most recent call last)",
      "File \u001b[0;32m~/.local/lib/python3.9/site-packages/pygifsicle/pygifsicle.py:76\u001b[0m, in \u001b[0;36mgifsicle\u001b[0;34m(sources, destination, optimize, colors, options)\u001b[0m\n\u001b[1;32m     75\u001b[0m \u001b[38;5;28;01mtry\u001b[39;00m:\n\u001b[0;32m---> 76\u001b[0m     \u001b[43msubprocess\u001b[49m\u001b[38;5;241;43m.\u001b[39;49m\u001b[43mcall\u001b[49m\u001b[43m(\u001b[49m\u001b[43m[\u001b[49m\u001b[38;5;124;43m\"\u001b[39;49m\u001b[38;5;124;43mgifsicle\u001b[39;49m\u001b[38;5;124;43m\"\u001b[39;49m\u001b[43m,\u001b[49m\u001b[43m \u001b[49m\u001b[38;5;241;43m*\u001b[39;49m\u001b[43moptions\u001b[49m\u001b[43m,\u001b[49m\u001b[43m \u001b[49m\u001b[38;5;241;43m*\u001b[39;49m\u001b[43msources\u001b[49m\u001b[43m,\u001b[49m\u001b[43m \u001b[49m\u001b[38;5;124;43m\"\u001b[39;49m\u001b[38;5;124;43m--colors\u001b[39;49m\u001b[38;5;124;43m\"\u001b[39;49m\u001b[43m,\u001b[49m\n\u001b[1;32m     77\u001b[0m \u001b[43m                    \u001b[49m\u001b[38;5;28;43mstr\u001b[39;49m\u001b[43m(\u001b[49m\u001b[43mcolors\u001b[49m\u001b[43m)\u001b[49m\u001b[43m,\u001b[49m\u001b[43m \u001b[49m\u001b[38;5;124;43m\"\u001b[39;49m\u001b[38;5;124;43m--output\u001b[39;49m\u001b[38;5;124;43m\"\u001b[39;49m\u001b[43m,\u001b[49m\u001b[43m \u001b[49m\u001b[43mdestination\u001b[49m\u001b[43m]\u001b[49m\u001b[43m)\u001b[49m\n\u001b[1;32m     78\u001b[0m \u001b[38;5;28;01mexcept\u001b[39;00m \u001b[38;5;167;01mFileNotFoundError\u001b[39;00m:\n",
      "File \u001b[0;32m/sw/spack-levante/mambaforge-4.11.0-0-Linux-x86_64-sobz6z/lib/python3.9/subprocess.py:349\u001b[0m, in \u001b[0;36mcall\u001b[0;34m(timeout, *popenargs, **kwargs)\u001b[0m\n\u001b[1;32m    342\u001b[0m \u001b[38;5;124;03m\"\"\"Run command with arguments.  Wait for command to complete or\u001b[39;00m\n\u001b[1;32m    343\u001b[0m \u001b[38;5;124;03mtimeout, then return the returncode attribute.\u001b[39;00m\n\u001b[1;32m    344\u001b[0m \n\u001b[0;32m   (...)\u001b[0m\n\u001b[1;32m    347\u001b[0m \u001b[38;5;124;03mretcode = call([\"ls\", \"-l\"])\u001b[39;00m\n\u001b[1;32m    348\u001b[0m \u001b[38;5;124;03m\"\"\"\u001b[39;00m\n\u001b[0;32m--> 349\u001b[0m \u001b[38;5;28;01mwith\u001b[39;00m \u001b[43mPopen\u001b[49m\u001b[43m(\u001b[49m\u001b[38;5;241;43m*\u001b[39;49m\u001b[43mpopenargs\u001b[49m\u001b[43m,\u001b[49m\u001b[43m \u001b[49m\u001b[38;5;241;43m*\u001b[39;49m\u001b[38;5;241;43m*\u001b[39;49m\u001b[43mkwargs\u001b[49m\u001b[43m)\u001b[49m \u001b[38;5;28;01mas\u001b[39;00m p:\n\u001b[1;32m    350\u001b[0m     \u001b[38;5;28;01mtry\u001b[39;00m:\n",
      "File \u001b[0;32m/sw/spack-levante/mambaforge-4.11.0-0-Linux-x86_64-sobz6z/lib/python3.9/subprocess.py:951\u001b[0m, in \u001b[0;36mPopen.__init__\u001b[0;34m(self, args, bufsize, executable, stdin, stdout, stderr, preexec_fn, close_fds, shell, cwd, env, universal_newlines, startupinfo, creationflags, restore_signals, start_new_session, pass_fds, user, group, extra_groups, encoding, errors, text, umask)\u001b[0m\n\u001b[1;32m    948\u001b[0m             \u001b[38;5;28mself\u001b[39m\u001b[38;5;241m.\u001b[39mstderr \u001b[38;5;241m=\u001b[39m io\u001b[38;5;241m.\u001b[39mTextIOWrapper(\u001b[38;5;28mself\u001b[39m\u001b[38;5;241m.\u001b[39mstderr,\n\u001b[1;32m    949\u001b[0m                     encoding\u001b[38;5;241m=\u001b[39mencoding, errors\u001b[38;5;241m=\u001b[39merrors)\n\u001b[0;32m--> 951\u001b[0m     \u001b[38;5;28;43mself\u001b[39;49m\u001b[38;5;241;43m.\u001b[39;49m\u001b[43m_execute_child\u001b[49m\u001b[43m(\u001b[49m\u001b[43margs\u001b[49m\u001b[43m,\u001b[49m\u001b[43m \u001b[49m\u001b[43mexecutable\u001b[49m\u001b[43m,\u001b[49m\u001b[43m \u001b[49m\u001b[43mpreexec_fn\u001b[49m\u001b[43m,\u001b[49m\u001b[43m \u001b[49m\u001b[43mclose_fds\u001b[49m\u001b[43m,\u001b[49m\n\u001b[1;32m    952\u001b[0m \u001b[43m                        \u001b[49m\u001b[43mpass_fds\u001b[49m\u001b[43m,\u001b[49m\u001b[43m \u001b[49m\u001b[43mcwd\u001b[49m\u001b[43m,\u001b[49m\u001b[43m \u001b[49m\u001b[43menv\u001b[49m\u001b[43m,\u001b[49m\n\u001b[1;32m    953\u001b[0m \u001b[43m                        \u001b[49m\u001b[43mstartupinfo\u001b[49m\u001b[43m,\u001b[49m\u001b[43m \u001b[49m\u001b[43mcreationflags\u001b[49m\u001b[43m,\u001b[49m\u001b[43m \u001b[49m\u001b[43mshell\u001b[49m\u001b[43m,\u001b[49m\n\u001b[1;32m    954\u001b[0m \u001b[43m                        \u001b[49m\u001b[43mp2cread\u001b[49m\u001b[43m,\u001b[49m\u001b[43m \u001b[49m\u001b[43mp2cwrite\u001b[49m\u001b[43m,\u001b[49m\n\u001b[1;32m    955\u001b[0m \u001b[43m                        \u001b[49m\u001b[43mc2pread\u001b[49m\u001b[43m,\u001b[49m\u001b[43m \u001b[49m\u001b[43mc2pwrite\u001b[49m\u001b[43m,\u001b[49m\n\u001b[1;32m    956\u001b[0m \u001b[43m                        \u001b[49m\u001b[43merrread\u001b[49m\u001b[43m,\u001b[49m\u001b[43m \u001b[49m\u001b[43merrwrite\u001b[49m\u001b[43m,\u001b[49m\n\u001b[1;32m    957\u001b[0m \u001b[43m                        \u001b[49m\u001b[43mrestore_signals\u001b[49m\u001b[43m,\u001b[49m\n\u001b[1;32m    958\u001b[0m \u001b[43m                        \u001b[49m\u001b[43mgid\u001b[49m\u001b[43m,\u001b[49m\u001b[43m \u001b[49m\u001b[43mgids\u001b[49m\u001b[43m,\u001b[49m\u001b[43m \u001b[49m\u001b[43muid\u001b[49m\u001b[43m,\u001b[49m\u001b[43m \u001b[49m\u001b[43mumask\u001b[49m\u001b[43m,\u001b[49m\n\u001b[1;32m    959\u001b[0m \u001b[43m                        \u001b[49m\u001b[43mstart_new_session\u001b[49m\u001b[43m)\u001b[49m\n\u001b[1;32m    960\u001b[0m \u001b[38;5;28;01mexcept\u001b[39;00m:\n\u001b[1;32m    961\u001b[0m     \u001b[38;5;66;03m# Cleanup if the child failed starting.\u001b[39;00m\n",
      "File \u001b[0;32m/sw/spack-levante/mambaforge-4.11.0-0-Linux-x86_64-sobz6z/lib/python3.9/subprocess.py:1821\u001b[0m, in \u001b[0;36mPopen._execute_child\u001b[0;34m(self, args, executable, preexec_fn, close_fds, pass_fds, cwd, env, startupinfo, creationflags, shell, p2cread, p2cwrite, c2pread, c2pwrite, errread, errwrite, restore_signals, gid, gids, uid, umask, start_new_session)\u001b[0m\n\u001b[1;32m   1820\u001b[0m         err_msg \u001b[38;5;241m=\u001b[39m os\u001b[38;5;241m.\u001b[39mstrerror(errno_num)\n\u001b[0;32m-> 1821\u001b[0m     \u001b[38;5;28;01mraise\u001b[39;00m child_exception_type(errno_num, err_msg, err_filename)\n\u001b[1;32m   1822\u001b[0m \u001b[38;5;28;01mraise\u001b[39;00m child_exception_type(err_msg)\n",
      "\u001b[0;31mFileNotFoundError\u001b[0m: [Errno 2] No such file or directory: 'gifsicle'",
      "\nDuring handling of the above exception, another exception occurred:\n",
      "\u001b[0;31mFileNotFoundError\u001b[0m                         Traceback (most recent call last)",
      "Input \u001b[0;32mIn [2]\u001b[0m, in \u001b[0;36m<cell line: 2>\u001b[0;34m()\u001b[0m\n\u001b[1;32m      1\u001b[0m \u001b[38;5;28;01mfrom\u001b[39;00m \u001b[38;5;21;01mpygifsicle\u001b[39;00m \u001b[38;5;28;01mimport\u001b[39;00m optimize\n\u001b[0;32m----> 2\u001b[0m \u001b[43moptimize\u001b[49m\u001b[43m(\u001b[49m\u001b[38;5;124;43m'\u001b[39;49m\u001b[38;5;124;43m/work/bd1231/tglauch/gpp_eu_2015/movie.gif\u001b[39;49m\u001b[38;5;124;43m'\u001b[39;49m\u001b[43m)\u001b[49m\n",
      "File \u001b[0;32m~/.local/lib/python3.9/site-packages/pygifsicle/pygifsicle.py:97\u001b[0m, in \u001b[0;36moptimize\u001b[0;34m(source, *args, **kwargs)\u001b[0m\n\u001b[1;32m     89\u001b[0m \u001b[38;5;28;01mdef\u001b[39;00m \u001b[38;5;21moptimize\u001b[39m(source: Union[\u001b[38;5;28mstr\u001b[39m, Path], \u001b[38;5;241m*\u001b[39margs, \u001b[38;5;241m*\u001b[39m\u001b[38;5;241m*\u001b[39mkwargs) \u001b[38;5;241m-\u001b[39m\u001b[38;5;241m>\u001b[39m \u001b[38;5;28;01mNone\u001b[39;00m:\n\u001b[1;32m     90\u001b[0m     \u001b[38;5;124;03m\"\"\"Optimize given gif.\u001b[39;00m\n\u001b[1;32m     91\u001b[0m \n\u001b[1;32m     92\u001b[0m \u001b[38;5;124;03m    Parameters\u001b[39;00m\n\u001b[0;32m   (...)\u001b[0m\n\u001b[1;32m     95\u001b[0m \u001b[38;5;124;03m        Path to gif image to optimize.\u001b[39;00m\n\u001b[1;32m     96\u001b[0m \u001b[38;5;124;03m    \"\"\"\u001b[39;00m\n\u001b[0;32m---> 97\u001b[0m     \u001b[43mgifsicle\u001b[49m\u001b[43m(\u001b[49m\u001b[43msource\u001b[49m\u001b[43m,\u001b[49m\u001b[43m \u001b[49m\u001b[38;5;241;43m*\u001b[39;49m\u001b[43margs\u001b[49m\u001b[43m,\u001b[49m\u001b[43m \u001b[49m\u001b[38;5;241;43m*\u001b[39;49m\u001b[38;5;241;43m*\u001b[39;49m\u001b[43mkwargs\u001b[49m\u001b[43m,\u001b[49m\u001b[43m \u001b[49m\u001b[43moptimize\u001b[49m\u001b[38;5;241;43m=\u001b[39;49m\u001b[38;5;28;43;01mTrue\u001b[39;49;00m\u001b[43m)\u001b[49m\n",
      "File \u001b[0;32m~/.local/lib/python3.9/site-packages/pygifsicle/pygifsicle.py:79\u001b[0m, in \u001b[0;36mgifsicle\u001b[0;34m(sources, destination, optimize, colors, options)\u001b[0m\n\u001b[1;32m     76\u001b[0m     subprocess\u001b[38;5;241m.\u001b[39mcall([\u001b[38;5;124m\"\u001b[39m\u001b[38;5;124mgifsicle\u001b[39m\u001b[38;5;124m\"\u001b[39m, \u001b[38;5;241m*\u001b[39moptions, \u001b[38;5;241m*\u001b[39msources, \u001b[38;5;124m\"\u001b[39m\u001b[38;5;124m--colors\u001b[39m\u001b[38;5;124m\"\u001b[39m,\n\u001b[1;32m     77\u001b[0m                     \u001b[38;5;28mstr\u001b[39m(colors), \u001b[38;5;124m\"\u001b[39m\u001b[38;5;124m--output\u001b[39m\u001b[38;5;124m\"\u001b[39m, destination])\n\u001b[1;32m     78\u001b[0m \u001b[38;5;28;01mexcept\u001b[39;00m \u001b[38;5;167;01mFileNotFoundError\u001b[39;00m:\n\u001b[0;32m---> 79\u001b[0m     \u001b[38;5;28;01mraise\u001b[39;00m \u001b[38;5;167;01mFileNotFoundError\u001b[39;00m((\n\u001b[1;32m     80\u001b[0m         \u001b[38;5;124m\"\u001b[39m\u001b[38;5;124mThe gifsicle library was not found on your system.\u001b[39m\u001b[38;5;130;01m\\n\u001b[39;00m\u001b[38;5;124m\"\u001b[39m\n\u001b[1;32m     81\u001b[0m         \u001b[38;5;124m\"\u001b[39m\u001b[38;5;124mOn MacOS it is automatically installed using brew when you \u001b[39m\u001b[38;5;124m\"\u001b[39m\n\u001b[1;32m     82\u001b[0m         \u001b[38;5;124m\"\u001b[39m\u001b[38;5;124muse the pip install command.\u001b[39m\u001b[38;5;130;01m\\n\u001b[39;00m\u001b[38;5;124m\"\u001b[39m\n\u001b[1;32m     83\u001b[0m         \u001b[38;5;124m\"\u001b[39m\u001b[38;5;124mOn other systems, like Linux systems and Windows, it prompts the \u001b[39m\u001b[38;5;124m\"\u001b[39m\n\u001b[1;32m     84\u001b[0m         \u001b[38;5;124m\"\u001b[39m\u001b[38;5;124minstructions to be followed for completing the installation.\u001b[39m\u001b[38;5;130;01m\\n\u001b[39;00m\u001b[38;5;124m\"\u001b[39m\n\u001b[1;32m     85\u001b[0m         \u001b[38;5;124m\"\u001b[39m\u001b[38;5;124mYou can learn more on how to install gifsicle on \u001b[39m\u001b[38;5;124m\"\u001b[39m\n\u001b[1;32m     86\u001b[0m         \u001b[38;5;124m\"\u001b[39m\u001b[38;5;124mthe gifsicle and pygifsicle documentation.\u001b[39m\u001b[38;5;124m\"\u001b[39m\n\u001b[1;32m     87\u001b[0m     ))\n",
      "\u001b[0;31mFileNotFoundError\u001b[0m: The gifsicle library was not found on your system.\nOn MacOS it is automatically installed using brew when you use the pip install command.\nOn other systems, like Linux systems and Windows, it prompts the instructions to be followed for completing the installation.\nYou can learn more on how to install gifsicle on the gifsicle and pygifsicle documentation."
     ]
    }
   ],
   "source": [
    "from pygifsicle import optimize\n",
    "optimize('/work/bd1231/tglauch/gpp_eu_2015/movie.gif')"
   ]
  },
  {
   "cell_type": "code",
   "execution_count": null,
   "id": "0703b8f0-12f1-4550-b4b1-1e2ce7aa9975",
   "metadata": {},
   "outputs": [],
   "source": [
    "import xarray as xr"
   ]
  },
  {
   "cell_type": "code",
   "execution_count": null,
   "id": "5c8a5f16-a9d6-4803-875e-808e39b667f8",
   "metadata": {},
   "outputs": [],
   "source": []
  }
 ],
 "metadata": {
  "kernelspec": {
   "display_name": "Python 3 (based on the module python3/2022.01)",
   "language": "python",
   "name": "python3_2022_01"
  },
  "language_info": {
   "codemirror_mode": {
    "name": "ipython",
    "version": 3
   },
   "file_extension": ".py",
   "mimetype": "text/x-python",
   "name": "python",
   "nbconvert_exporter": "python",
   "pygments_lexer": "ipython3",
   "version": "3.9.9"
  }
 },
 "nbformat": 4,
 "nbformat_minor": 5
}
