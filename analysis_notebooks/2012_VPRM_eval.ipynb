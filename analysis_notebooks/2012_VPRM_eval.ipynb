{
 "cells": [
  {
   "cell_type": "code",
   "execution_count": 9,
   "id": "46bae825-c055-492c-978b-d217b233db95",
   "metadata": {},
   "outputs": [],
   "source": [
    "%matplotlib inline\n",
    "from fancy_plot import *\n",
    "import numpy as np\n",
    "import pickle\n",
    "from scipy.optimize import curve_fit\n",
    "import glob\n",
    "import pandas as pd\n",
    "import datetime\n",
    "import pytz\n",
    "from tzwhere import tzwhere"
   ]
  },
  {
   "cell_type": "code",
   "execution_count": 20,
   "id": "529e8a45-5510-4ce8-8260-87a95baf689b",
   "metadata": {},
   "outputs": [],
   "source": [
    "def make_prediction_for_site(site, target_key, res_gpp, res_nee):\n",
    "    spred, targets, tmps_return = None, None, None\n",
    "    for f in glob.glob(folder):\n",
    "        with open(f, 'rb') as ifile:\n",
    "            idata = pickle.load(ifile)\n",
    "        if site not in idata.keys():\n",
    "            continue\n",
    "        ipt = np.array(idata[site]['input_data'])\n",
    "        tmsp = np.array(idata[site]['input_data_timestamps'])\n",
    "        flxnet = idata[site]['fluxnet_data']\n",
    "        targets = []\n",
    "        inputs = []\n",
    "        tmps_return = []\n",
    "        for c, t in enumerate(tmsp):\n",
    "            if (t.hour % 1 != 0):\n",
    "                continue\n",
    "            try:\n",
    "                a = float(flxnet.loc[flxnet['datetime_utc'] == t][target_key].iloc[0])\n",
    "                if a < -1000:\n",
    "                    continue\n",
    "            except:\n",
    "                continue\n",
    "            targets.append(a)\n",
    "            inputs.append(ipt[c])\n",
    "            tmps_return.append(t)\n",
    "        tmps_return = np.array(tmps_return)   \n",
    "        inputs = np.array(inputs)\n",
    "        inputs[:,2] = inputs[:,2] \n",
    "        targets = np.array(targets)\n",
    "        if len(inputs) == 0:\n",
    "            print('Nothing to plot. continue')\n",
    "            return None, None, None\n",
    "    #    print(np.min(inputs[:,1]), np.min(inputs[:,4]), np.min(inputs[:,3]), np.min(inputs[:,0]), np.min(inputs[:,2]))\n",
    "        if 'NEE' in target_key:\n",
    "            spred = -(res_gpp[0][0] * inputs[:,1] * inputs[:,4]  * inputs[:,3]) * inputs[:,0] * inputs[:,2] / (1 + inputs[:,2]/res_gpp[0][1]) + res_nee[0][0] * (inputs[:,5])  + res_nee[0][1]\n",
    "        else:\n",
    "            spred = (res_gpp[0][0] * inputs[:,1] * inputs[:,4]  * inputs[:,3]) * inputs[:,0] * inputs[:,2] / (1 + inputs[:,2]/res_gpp[0][1])\n",
    "            targets[targets<0] = 0\n",
    "    return spred, targets, tmps_return\n"
   ]
  },
  {
   "cell_type": "code",
   "execution_count": 3,
   "id": "7d8054f7-6655-4a7f-b668-098ecb121137",
   "metadata": {},
   "outputs": [],
   "source": [
    "# Index(['TIMESTAMP_START', 'TIMESTAMP_END', 'NEE_CUT_REF', 'NEE_VUT_REF',\n",
    "#        'NEE_CUT_REF_QC', 'NEE_VUT_REF_QC', 'GPP_NT_VUT_REF', 'GPP_NT_CUT_REF',\n",
    "#        'GPP_DT_VUT_REF', 'GPP_DT_CUT_REF', 'datetime_utc'],\n",
    "#       dtype='object')"
   ]
  },
  {
   "cell_type": "code",
   "execution_count": 4,
   "id": "42656688-ae6f-4680-9380-85c05dd06243",
   "metadata": {},
   "outputs": [],
   "source": [
    "site_dict = {'grassland': ['AT-Neu', 'CH-Cha', 'CH-Fru', 'CZ-BK2', 'DE-Gri', 'DE-RuR', 'IT-MBo', 'IT-Tor'],\n",
    "             'mixed_forests': ['BE-Bra', 'BE-Vie', 'CH-Lae'],\n",
    "             'cropland': ['BE-Lon', 'CH-Oe2', 'DE-Geb', 'DE-Kli', 'DE-RuS', 'FR-Gri', 'IT-BCi', 'IT-CA2'],\n",
    "             'evergeen': ['CH-Dav', 'CZ-BK1', 'DE-Lkb', 'DE-Obe', 'DE-Tha', 'FI-Hyy', 'FI-Let', 'FI-Sod',\n",
    "                          'IT-Lav', 'IT-Ren', 'IT-SRo', 'NL-Loo', 'RU-Fyo'],\n",
    "       #      'wetland': ['CZ-wet', 'DE-Akm', 'DE-SfN', 'DE-Spw', 'FR-Pue', 'IT-Cp2'],\n",
    "             'deciduous': ['DE-Hai', 'DE-Lnf', 'DK-Sor', 'FR-Fon', 'IT-CA1', 'IT-CA3', 'IT-Col', 'IT-Ro2'],\n",
    "             'shrubland': ['ES-Amo', 'ES-LJu', 'IT-Noe']}"
   ]
  },
  {
   "cell_type": "code",
   "execution_count": 5,
   "id": "55e2a3a1-6944-4565-9b25-f7d21a53e8ef",
   "metadata": {},
   "outputs": [],
   "source": [
    "veg_type_id = {'grassland': 7, 'mixed_forests': 3 , 'cropland':6, \n",
    "               'evergeen': 1, 'deciduous': 2, 'shrubland':4} # 'wetland': 8"
   ]
  },
  {
   "cell_type": "code",
   "execution_count": 6,
   "id": "ebd9d484-cb4b-4954-9553-b02e75047745",
   "metadata": {},
   "outputs": [],
   "source": [
    "viirs_dict = dict()"
   ]
  },
  {
   "cell_type": "code",
   "execution_count": 7,
   "id": "52cf4cea-510c-4315-87db-711a86673a63",
   "metadata": {},
   "outputs": [
    {
     "name": "stdout",
     "output_type": "stream",
     "text": [
      "grassland\n"
     ]
    },
    {
     "name": "stderr",
     "output_type": "stream",
     "text": [
      "/home/b/b309233/.local/lib/python3.9/site-packages/tzwhere/tzwhere.py:62: VisibleDeprecationWarning: Creating an ndarray from ragged nested sequences (which is a list-or-tuple of lists-or-tuples-or ndarrays with different lengths or shapes) is deprecated. If you meant to do this, you must specify 'dtype=object' when creating the ndarray.\n",
      "  self.timezoneNamesToPolygons[tzname] = WRAP(polys)\n"
     ]
    },
    {
     "name": "stdout",
     "output_type": "stream",
     "text": [
      "Use AT-Neu at (11.3175, 47.11667) (UTC Offset 2.0)\n",
      "cannot convert the series to <class 'float'>\n",
      "Use CH-Cha at (8.41044, 47.21022) (UTC Offset 2.0)\n",
      "Use CH-Fru at (8.53778, 47.11583) (UTC Offset 2.0)\n",
      "Use IT-MBo at (11.04583, 46.01468) (UTC Offset 2.0)\n",
      "Use IT-Tor at (7.57806, 45.84444) (UTC Offset 2.0)\n",
      "Use DE-Gri at (13.51253, 50.94947) (UTC Offset 2.0)\n",
      "Use DE-RuR at (6.30413, 50.62191) (UTC Offset 2.0)\n",
      "Use CZ-BK2 at (18.54285, 49.49443) (UTC Offset 2.0)\n",
      "cannot convert the series to <class 'float'>\n",
      "-----\n",
      "(array([4.36418969e-02, 5.40139731e+02]), array([[ 1.74395882e-06, -3.34929103e-02],\n",
      "       [-3.34929103e-02,  6.65430180e+02]])) (array([0.35125761, 0.63466387]), array([[ 1.92186192e-05, -1.73495567e-04],\n",
      "       [-1.73495567e-04,  2.39700707e-03]]))\n",
      "{7: array([4.36418969e-02, 5.40139731e+02, 3.51257606e-01, 6.34663865e-01])}\n",
      "mixed_forests\n",
      "Use CH-Lae at (8.36439, 47.47833) (UTC Offset 2.0)\n",
      "Use BE-Bra at (4.51984, 51.30761) (UTC Offset 2.0)\n",
      "Use BE-Vie at (5.99812, 50.30493) (UTC Offset 2.0)\n",
      "-----\n",
      "(array([4.10088935e-02, 4.67662692e+02]), array([[ 1.29288844e-06, -2.23370015e-02],\n",
      "       [-2.23370015e-02,  4.00220732e+02]])) (array([0.27092237, 0.962685  ]), array([[ 3.98699929e-05, -4.09683288e-04],\n",
      "       [-4.09683288e-04,  6.04168863e-03]]))\n",
      "{7: array([4.36418969e-02, 5.40139731e+02, 3.51257606e-01, 6.34663865e-01]), 3: array([4.10088935e-02, 4.67662692e+02, 2.70922370e-01, 9.62684995e-01])}\n",
      "cropland\n",
      "Use CH-Oe2 at (7.73375, 47.28642) (UTC Offset 2.0)\n",
      "Use FR-Gri at (1.95191, 48.84422) (UTC Offset 2.0)\n",
      "Use IT-CA2 at (12.02604, 42.37722) (UTC Offset 2.0)\n",
      "Use BE-Lon at (4.74623, 50.55162) (UTC Offset 2.0)\n",
      "Use DE-Geb at (10.91463, 51.09973) (UTC Offset 2.0)\n",
      "Use DE-Kli at (13.52238, 50.89306) (UTC Offset 2.0)\n",
      "Use DE-RuS at (6.44717, 50.86591) (UTC Offset 2.0)\n",
      "Use IT-BCi at (14.95744, 40.52375) (UTC Offset 2.0)\n",
      "-----\n",
      "(array([4.28711004e-02, 5.57444871e+02]), array([[ 6.64878489e-06, -1.35987691e-01],\n",
      "       [-1.35987691e-01,  2.88434749e+03]])) (array([0.16484549, 0.23260093]), array([[ 4.00116944e-05, -5.11635430e-04],\n",
      "       [-5.11635430e-04,  8.34212134e-03]]))\n",
      "{7: array([4.36418969e-02, 5.40139731e+02, 3.51257606e-01, 6.34663865e-01]), 3: array([4.10088935e-02, 4.67662692e+02, 2.70922370e-01, 9.62684995e-01]), 6: array([4.28711004e-02, 5.57444871e+02, 1.64845491e-01, 2.32600928e-01])}\n",
      "evergeen\n",
      "Use RU-Fyo at (32.92208, 56.46153) (UTC Offset 3.0)\n",
      "Use FI-Hyy at (24.29477, 61.84741) (UTC Offset 3.0)\n",
      "Use FI-Let at (23.95952, 60.64183) (UTC Offset 3.0)\n",
      "cannot convert the series to <class 'float'>\n",
      "cannot convert the series to <class 'float'>\n",
      "Use FI-Sod at (26.63859, 67.36239) (UTC Offset 3.0)\n",
      "Use CH-Dav at (9.85591, 46.81533) (UTC Offset 2.0)\n",
      "Use DE-Lkb at (13.30467, 49.09962) (UTC Offset 2.0)\n",
      "Use IT-Lav at (11.28132, 45.9562) (UTC Offset 2.0)\n",
      "Use IT-Ren at (11.43369, 46.58686) (UTC Offset 2.0)\n",
      "Use IT-SRo at (10.28444, 43.72786) (UTC Offset 2.0)\n",
      "cannot convert the series to <class 'float'>\n",
      "Use DE-Obe at (13.72129, 50.78666) (UTC Offset 2.0)\n",
      "Use DE-Tha at (13.56515, 50.96256) (UTC Offset 2.0)\n",
      "Use NL-Loo at (5.74356, 52.16658) (UTC Offset 2.0)\n",
      "Use CZ-BK1 at (18.53688, 49.50208) (UTC Offset 2.0)\n",
      "-----\n",
      "(array([4.54700997e-02, 4.25709262e+02]), array([[ 7.86506897e-07, -1.09147426e-02],\n",
      "       [-1.09147426e-02,  1.56662255e+02]])) (array([0.27705206, 0.06183573]), array([[ 6.92291443e-06, -6.02069325e-05],\n",
      "       [-6.02069325e-05,  9.02855452e-04]]))\n",
      "{7: array([4.36418969e-02, 5.40139731e+02, 3.51257606e-01, 6.34663865e-01]), 3: array([4.10088935e-02, 4.67662692e+02, 2.70922370e-01, 9.62684995e-01]), 6: array([4.28711004e-02, 5.57444871e+02, 1.64845491e-01, 2.32600928e-01]), 1: array([4.54700997e-02, 4.25709262e+02, 2.77052058e-01, 6.18357346e-02])}\n",
      "deciduous\n",
      "Use FR-Fon at (2.7801, 48.47636) (UTC Offset 2.0)\n",
      "Use IT-CA1 at (12.02656, 42.38041) (UTC Offset 2.0)\n",
      "Use IT-CA3 at (12.0222, 42.38) (UTC Offset 2.0)\n",
      "Use IT-Ro2 at (11.92093, 42.39026) (UTC Offset 2.0)\n",
      "cannot convert the series to <class 'float'>\n",
      "Use DE-Hai at (10.45217, 51.07921) (UTC Offset 2.0)\n",
      "cannot convert the series to <class 'float'>\n",
      "Use DE-Lnf at (10.3678, 51.32822) (UTC Offset 2.0)\n",
      "cannot convert the series to <class 'float'>\n",
      "Use DK-Sor at (11.64464, 55.48587) (UTC Offset 2.0)\n",
      "Use IT-Col at (13.58814, 41.84936) (UTC Offset 2.0)\n",
      "-----\n",
      "(array([4.08421836e-02, 4.70433460e+02]), array([[ 1.40416602e-06, -2.39328937e-02],\n",
      "       [-2.39328937e-02,  4.20679143e+02]])) (array([0.07061629, 1.96066562]), array([[ 1.34012732e-05, -1.71581814e-04],\n",
      "       [-1.71581814e-04,  3.04242138e-03]]))\n",
      "{7: array([4.36418969e-02, 5.40139731e+02, 3.51257606e-01, 6.34663865e-01]), 3: array([4.10088935e-02, 4.67662692e+02, 2.70922370e-01, 9.62684995e-01]), 6: array([4.28711004e-02, 5.57444871e+02, 1.64845491e-01, 2.32600928e-01]), 1: array([4.54700997e-02, 4.25709262e+02, 2.77052058e-01, 6.18357346e-02]), 2: array([4.08421836e-02, 4.70433460e+02, 7.06162935e-02, 1.96066562e+00])}\n",
      "shrubland\n",
      "Use IT-Noe at (8.15169, 40.60618) (UTC Offset 2.0)\n",
      "Use ES-Amo at (-2.25232, 36.83361) (UTC Offset 2.0)\n",
      "cannot convert the series to <class 'float'>\n",
      "Use ES-LJu at (-2.75212, 36.92659) (UTC Offset 2.0)\n",
      "-----\n",
      "(array([2.88101195e-02, 3.41411106e+02]), array([[ 2.55726411e-06, -4.06882584e-02],\n",
      "       [-4.06882584e-02,  6.62635767e+02]])) (array([0.06315456, 0.32897147]), array([[ 4.90652719e-06, -8.62945625e-05],\n",
      "       [-8.62945625e-05,  1.74567802e-03]]))\n",
      "{7: array([4.36418969e-02, 5.40139731e+02, 3.51257606e-01, 6.34663865e-01]), 3: array([4.10088935e-02, 4.67662692e+02, 2.70922370e-01, 9.62684995e-01]), 6: array([4.28711004e-02, 5.57444871e+02, 1.64845491e-01, 2.32600928e-01]), 1: array([4.54700997e-02, 4.25709262e+02, 2.77052058e-01, 6.18357346e-02]), 2: array([4.08421836e-02, 4.70433460e+02, 7.06162935e-02, 1.96066562e+00]), 4: array([2.88101195e-02, 3.41411106e+02, 6.31545562e-02, 3.28971468e-01])}\n"
     ]
    }
   ],
   "source": [
    "### target_key  = 'NEE_st_fMDS' # #'GPP_st_MDS' #\n",
    "\n",
    "do_checks = False\n",
    "fit_res_dict_viirs = dict()\n",
    "folder = '/work/bd1231/tglauch/VPRM_output_viirs_new_sites/*.pickle'\n",
    "for veg_type in site_dict.keys():\n",
    "    print(veg_type)\n",
    "    targets_gpp = []\n",
    "    targets_nee = []\n",
    "    inputs = []\n",
    "    lens = [0]\n",
    "    len0 = 0\n",
    "    for f in glob.glob(folder):\n",
    "        with open(f, 'rb') as ifile:\n",
    "            idata = pickle.load(ifile)\n",
    "        for site in site_dict[veg_type]:\n",
    "            if site not in idata.keys():\n",
    "                continue\n",
    "            tzw = tzwhere.tzwhere()\n",
    "            timezone_str = tzw.tzNameAt(idata[site]['lonlat'][1], idata[site]['lonlat'][0]) # Seville coordinates\n",
    "            timezone = pytz.timezone(timezone_str)\n",
    "            dt = datetime.datetime.now()\n",
    "            if do_checks:\n",
    "                targets = []\n",
    "                inputs = []\n",
    "            print('Use {} at {} (UTC Offset {})'.format(site, idata[site]['lonlat'],\n",
    "                                                        timezone.utcoffset(dt).total_seconds()/3600))\n",
    "            ipt = np.array(idata[site]['input_data'])\n",
    "            tmsp = np.array(idata[site]['input_data_timestamps'])\n",
    "            flxnet = idata[site]['fluxnet_data']\n",
    "            for c, t in enumerate(tmsp):\n",
    "                try:\n",
    "                    if float(flxnet.loc[flxnet['datetime_utc'] == t]['NEE_VUT_REF_QC'])>1:\n",
    "                        continue\n",
    "                    a = float(flxnet.loc[flxnet['datetime_utc'] == t]['NEE_VUT_REF'])\n",
    "                    b = float(flxnet.loc[flxnet['datetime_utc'] == t]['GPP_DT_VUT_REF'])\n",
    "                except Exception as e :\n",
    "                    print(e)\n",
    "                    continue\n",
    "                targets_nee.append(a)\n",
    "                inputs.append(ipt[c])\n",
    "                targets_gpp.append(b)\n",
    "            lens.append(len(targets_gpp)-len0)\n",
    "            len0 = len(targets_gpp)\n",
    "    inds = []\n",
    "    lens = np.array(lens)\n",
    "    if np.sum(lens) == 0:\n",
    "        continue\n",
    "    num_inds_per_site = np.min(lens[lens>0])\n",
    "    cum_len = np.cumsum(lens)\n",
    "    for i in range(len(cum_len)-1):\n",
    "        if cum_len[i] == cum_len[i+1]:\n",
    "            continue\n",
    "        inds.append(np.random.choice(np.arange(cum_len[i], cum_len[i+1]),\n",
    "                                     num_inds_per_site))\n",
    "    inds = np.concatenate(inds)  \n",
    "    inputs = np.array(inputs)[inds]\n",
    "    targets_gpp = np.array(targets_gpp)[inds]\n",
    "    targets_nee = np.array(targets_nee)[inds]\n",
    "    mask = targets_gpp > 0.5\n",
    "    mse_min = 1e4\n",
    "    # inputs[:,0][inputs[:,0]<0] = 0 \n",
    "    for i in range(100):\n",
    "        res_gpp_t = curve_fit(lambda x, lamb, par0: (lamb * x[:,1] * x[:,4]  * x[:,3]) * x[:,0] * x[:,2] / (1 + x[:,2]/par0),\n",
    "                        inputs[mask], targets_gpp[mask], maxfev=5000, p0=[np.random.uniform(0,1), np.random.uniform(0,1)]) \n",
    "        spred = (res_gpp_t[0][0] * inputs[:,1] * inputs[:,4]  * inputs[:,3]) * inputs[:,0] * inputs[:,2] / (1 + inputs[:,2]/res_gpp_t[0][1])\n",
    "        mse = (np.square(targets_gpp[mask] - spred[mask])).mean()\n",
    "        if mse < mse_min:\n",
    "            res_gpp = res_gpp_t\n",
    "            mse_min = mse\n",
    "    mse_min = 1e4\n",
    "    print('-----')\n",
    "    for i in range(100):\n",
    "        res_nee_t = curve_fit(lambda x, a,b : -(res_gpp[0][0] * x[:,1] * x[:,4]  * x[:,3]) * x[:,0] * x[:,2] / (1 + x[:,2]/res_gpp[0][1]) + a * x[:,5] + b,\n",
    "                        inputs, targets_nee, maxfev=5000, p0=[np.random.uniform(0,1), np.random.uniform(0,1)])  \n",
    "        spred = -(res_gpp[0][0] * inputs[:,1] * inputs[:,4]  * inputs[:,3]) * inputs[:,0] * inputs[:,2] / (1 + inputs[:,2]/res_gpp[0][1]) + res_nee_t[0][0] * (inputs[:,5])  + res_nee_t[0][1]\n",
    "        mse = (np.square(targets_nee - spred)).mean()\n",
    "        if mse < mse_min:\n",
    "            res_nee = res_nee_t\n",
    "            mse_min = mse\n",
    "    print(res_gpp, res_nee)\n",
    "    fit_res_dict_viirs[veg_type_id[veg_type]] = np.concatenate([res_gpp[0], res_nee[0]])\n",
    "    print(fit_res_dict_viirs)\n",
    "    target_key  = 'GPP_DT_VUT_REF' #'NEE_VUT_REF' \n",
    "    for site in site_dict[veg_type]:\n",
    "            spred, targets, tmsp = make_prediction_for_site(site, target_key, res_gpp, res_nee)\n",
    "            if spred is None:\n",
    "                continue\n",
    "#             ax_max = np.max([spred, targets])\n",
    "#             ax_min = np.min([spred, targets])\n",
    "#             fig, ax = newfig(0.9,ratio=1.0)\n",
    "#             ax.scatter(targets, spred, s=3)\n",
    "#             ax.set_xlabel('Target')\n",
    "#             ax.set_ylabel('Prediction')\n",
    "#             ax.text(0.1, 0.9, site,\n",
    "#                  horizontalalignment='left',\n",
    "#                  verticalalignment='top',\n",
    "#                  transform = ax.transAxes)\n",
    "#             ax.plot([ax_min, ax_max], [ax_min, ax_max], color='k',\n",
    "#                     lw=2)\n",
    "#             fig.show()\n",
    "\n",
    "#             fig, ax = newfig(2.0, ratio=0.3)\n",
    "#             ax.plot(range(len(targets)), targets, lw=1, color='k',\n",
    "#                     marker='o', ms=1)\n",
    "#             ax.plot(range(len(spred)), spred, lw=1,\n",
    "#                     marker='o', ms=1)\n",
    "#             ax.text(0.1, 0.9, site,\n",
    "#                  horizontalalignment='left',\n",
    "#                  verticalalignment='top',\n",
    "#              transform = ax.transAxes)\n",
    "#             # ax.set_xlim(500, 1800)\n",
    "#             fig.show()\n",
    "            # month_values_pred = []\n",
    "            # temp_values_pred = [] \n",
    "            # month_values_truth = []\n",
    "            # temp_values_truth = [] \n",
    "            # c_month = tmsp[0].month\n",
    "            # for c, i in enumerate(tmsp):\n",
    "            #     if i.month != c_month:\n",
    "            #         c_month = i.month\n",
    "            #         month_values_pred.append(np.mean(temp_values_pred))\n",
    "            #         month_values_truth.append(np.mean(temp_values_truth))\n",
    "            #         temp_values_truth = [] \n",
    "            #         temp_values_pred = []\n",
    "            #     temp_values_pred.append(spred[c])\n",
    "            #     temp_values_truth.append(targets[c])\n",
    "            # fig, ax = newfig(0.9)\n",
    "            # ax.plot(range(len(month_values_truth)), month_values_truth, color='k',\n",
    "            #         marker='o')\n",
    "            # ax.plot(range(len(month_values_pred)), month_values_pred, color='b',\n",
    "            #         marker='o')\n",
    "            # ax.text(0.0, 0.9, site,\n",
    "            #      horizontalalignment='left',\n",
    "            #      verticalalignment='top',\n",
    "            #      transform = ax.transAxes)\n",
    "            # fig.show()\n",
    "            viirs_dict[site] = [spred, targets, tmsp]"
   ]
  },
  {
   "cell_type": "code",
   "execution_count": 17,
   "id": "59c18ca3-4516-42cb-98a9-477d7540c83e",
   "metadata": {},
   "outputs": [
    {
     "data": {
      "text/plain": [
       "{7: array([4.39053678e-02, 5.39511331e+02, 3.52112462e-01, 6.48314796e-01]),\n",
       " 3: array([4.33352471e-02, 4.28541153e+02, 2.66433468e-01, 1.05088322e+00]),\n",
       " 6: array([4.18927109e-02, 5.39236756e+02, 1.48111163e-01, 3.90592341e-01]),\n",
       " 1: array([4.48877698e-02, 4.32558117e+02, 2.73889237e-01, 1.29642867e-01]),\n",
       " 2: array([4.13878378e-02, 4.53203997e+02, 7.57708450e-02, 1.90555458e+00]),\n",
       " 4: array([2.82067925e-02, 3.45295752e+02, 6.48748662e-02, 3.10600464e-01])}"
      ]
     },
     "execution_count": 17,
     "metadata": {},
     "output_type": "execute_result"
    }
   ],
   "source": [
    "fit_res_dict_viirs"
   ]
  },
  {
   "cell_type": "code",
   "execution_count": 9,
   "id": "5fd543ff-d478-4090-8bd8-80df5c3552e2",
   "metadata": {},
   "outputs": [],
   "source": [
    "with open('/home/b/b309233/fit_res_viirs.pickle', 'w+b') as ofile:\n",
    "    pickle.dump(fit_res_dict_viirs, ofile)"
   ]
  },
  {
   "cell_type": "code",
   "execution_count": 25,
   "id": "25a0e4da-c8a6-4159-a666-28a4d8d463c6",
   "metadata": {},
   "outputs": [],
   "source": [
    "modis_dict = dict()"
   ]
  },
  {
   "cell_type": "code",
   "execution_count": 29,
   "id": "0c0b1660-e4ec-4d8e-b84a-4e648e581ffc",
   "metadata": {},
   "outputs": [
    {
     "name": "stdout",
     "output_type": "stream",
     "text": [
      "grassland\n"
     ]
    },
    {
     "name": "stderr",
     "output_type": "stream",
     "text": [
      "/home/b/b309233/.local/lib/python3.9/site-packages/tzwhere/tzwhere.py:62: VisibleDeprecationWarning: Creating an ndarray from ragged nested sequences (which is a list-or-tuple of lists-or-tuples-or ndarrays with different lengths or shapes) is deprecated. If you meant to do this, you must specify 'dtype=object' when creating the ndarray.\n",
      "  self.timezoneNamesToPolygons[tzname] = WRAP(polys)\n"
     ]
    },
    {
     "name": "stdout",
     "output_type": "stream",
     "text": [
      "Use AT-Neu at (11.3175, 47.11667) (UTC Offset 2.0)\n",
      "single positional indexer is out-of-bounds\n",
      "Use CH-Cha at (8.41044, 47.21022) (UTC Offset 2.0)\n",
      "Use CH-Fru at (8.53778, 47.11583) (UTC Offset 2.0)\n",
      "Use IT-MBo at (11.04583, 46.01468) (UTC Offset 2.0)\n",
      "Use IT-Tor at (7.57806, 45.84444) (UTC Offset 2.0)\n"
     ]
    },
    {
     "name": "stderr",
     "output_type": "stream",
     "text": [
      "/home/b/b309233/.local/lib/python3.9/site-packages/tzwhere/tzwhere.py:62: VisibleDeprecationWarning: Creating an ndarray from ragged nested sequences (which is a list-or-tuple of lists-or-tuples-or ndarrays with different lengths or shapes) is deprecated. If you meant to do this, you must specify 'dtype=object' when creating the ndarray.\n",
      "  self.timezoneNamesToPolygons[tzname] = WRAP(polys)\n"
     ]
    },
    {
     "name": "stdout",
     "output_type": "stream",
     "text": [
      "Use DE-Gri at (13.51253, 50.94947) (UTC Offset 2.0)\n",
      "Use DE-RuR at (6.30413, 50.62191) (UTC Offset 2.0)\n"
     ]
    },
    {
     "name": "stderr",
     "output_type": "stream",
     "text": [
      "/home/b/b309233/.local/lib/python3.9/site-packages/tzwhere/tzwhere.py:62: VisibleDeprecationWarning: Creating an ndarray from ragged nested sequences (which is a list-or-tuple of lists-or-tuples-or ndarrays with different lengths or shapes) is deprecated. If you meant to do this, you must specify 'dtype=object' when creating the ndarray.\n",
      "  self.timezoneNamesToPolygons[tzname] = WRAP(polys)\n"
     ]
    },
    {
     "name": "stdout",
     "output_type": "stream",
     "text": [
      "Use CZ-BK2 at (18.54285, 49.49443) (UTC Offset 2.0)\n",
      "single positional indexer is out-of-bounds\n",
      "10889\n",
      "nan\n",
      "33.44322265293314\n",
      "-----\n",
      "19.256881527581232\n",
      "(array([1.30562308e-01, 4.97523237e+02]), array([[ 1.15209121e-05, -6.63889472e-02],\n",
      "       [-6.63889472e-02,  3.94898876e+02]])) (array([0.37445949, 0.51028758]), array([[ 1.61488337e-05, -1.40701725e-04],\n",
      "       [-1.40701725e-04,  1.93830732e-03]]))\n",
      "mixed_forests\n"
     ]
    },
    {
     "name": "stderr",
     "output_type": "stream",
     "text": [
      "/home/b/b309233/.local/lib/python3.9/site-packages/tzwhere/tzwhere.py:62: VisibleDeprecationWarning: Creating an ndarray from ragged nested sequences (which is a list-or-tuple of lists-or-tuples-or ndarrays with different lengths or shapes) is deprecated. If you meant to do this, you must specify 'dtype=object' when creating the ndarray.\n",
      "  self.timezoneNamesToPolygons[tzname] = WRAP(polys)\n"
     ]
    },
    {
     "name": "stdout",
     "output_type": "stream",
     "text": [
      "Use CH-Lae at (8.36439, 47.47833) (UTC Offset 2.0)\n"
     ]
    },
    {
     "name": "stderr",
     "output_type": "stream",
     "text": [
      "/home/b/b309233/.local/lib/python3.9/site-packages/tzwhere/tzwhere.py:62: VisibleDeprecationWarning: Creating an ndarray from ragged nested sequences (which is a list-or-tuple of lists-or-tuples-or ndarrays with different lengths or shapes) is deprecated. If you meant to do this, you must specify 'dtype=object' when creating the ndarray.\n",
      "  self.timezoneNamesToPolygons[tzname] = WRAP(polys)\n"
     ]
    },
    {
     "name": "stdout",
     "output_type": "stream",
     "text": [
      "Use BE-Bra at (4.51984, 51.30761) (UTC Offset 2.0)\n",
      "Use BE-Vie at (5.99812, 50.30493) (UTC Offset 2.0)\n",
      "4725\n",
      "0.64288987597849\n",
      "27.84077916181722\n",
      "-----\n",
      "20.521057105807742\n",
      "(array([1.46116531e-01, 4.55775492e+02]), array([[ 2.28487900e-05, -1.06033860e-01],\n",
      "       [-1.06033860e-01,  5.09667356e+02]])) (array([0.24683328, 0.90994279]), array([[ 4.38988864e-05, -4.42803740e-04],\n",
      "       [-4.42803740e-04,  6.43081907e-03]]))\n",
      "cropland\n"
     ]
    },
    {
     "name": "stderr",
     "output_type": "stream",
     "text": [
      "/home/b/b309233/.local/lib/python3.9/site-packages/tzwhere/tzwhere.py:62: VisibleDeprecationWarning: Creating an ndarray from ragged nested sequences (which is a list-or-tuple of lists-or-tuples-or ndarrays with different lengths or shapes) is deprecated. If you meant to do this, you must specify 'dtype=object' when creating the ndarray.\n",
      "  self.timezoneNamesToPolygons[tzname] = WRAP(polys)\n"
     ]
    },
    {
     "name": "stdout",
     "output_type": "stream",
     "text": [
      "Use CH-Oe2 at (7.73375, 47.28642) (UTC Offset 2.0)\n",
      "Use FR-Gri at (1.95191, 48.84422) (UTC Offset 2.0)\n",
      "Use IT-CA2 at (12.02604, 42.37722) (UTC Offset 2.0)\n"
     ]
    },
    {
     "name": "stderr",
     "output_type": "stream",
     "text": [
      "/home/b/b309233/.local/lib/python3.9/site-packages/tzwhere/tzwhere.py:62: VisibleDeprecationWarning: Creating an ndarray from ragged nested sequences (which is a list-or-tuple of lists-or-tuples-or ndarrays with different lengths or shapes) is deprecated. If you meant to do this, you must specify 'dtype=object' when creating the ndarray.\n",
      "  self.timezoneNamesToPolygons[tzname] = WRAP(polys)\n"
     ]
    },
    {
     "name": "stdout",
     "output_type": "stream",
     "text": [
      "Use BE-Lon at (4.74623, 50.55162) (UTC Offset 2.0)\n",
      "Use DE-Geb at (10.91463, 51.09973) (UTC Offset 2.0)\n",
      "Use DE-Kli at (13.52238, 50.89306) (UTC Offset 2.0)\n",
      "Use DE-RuS at (6.44717, 50.86591) (UTC Offset 2.0)\n"
     ]
    },
    {
     "name": "stderr",
     "output_type": "stream",
     "text": [
      "/home/b/b309233/.local/lib/python3.9/site-packages/tzwhere/tzwhere.py:62: VisibleDeprecationWarning: Creating an ndarray from ragged nested sequences (which is a list-or-tuple of lists-or-tuples-or ndarrays with different lengths or shapes) is deprecated. If you meant to do this, you must specify 'dtype=object' when creating the ndarray.\n",
      "  self.timezoneNamesToPolygons[tzname] = WRAP(polys)\n"
     ]
    },
    {
     "name": "stdout",
     "output_type": "stream",
     "text": [
      "Use IT-BCi at (14.95744, 40.52375) (UTC Offset 2.0)\n",
      "6015\n",
      "0.6495464430458274\n",
      "51.41880303695788\n",
      "-----\n",
      "20.31282458355209\n",
      "(array([1.13850909e-01, 5.79096813e+02]), array([[ 3.12315307e-05, -2.53232723e-01],\n",
      "       [-2.53232723e-01,  2.13029981e+03]])) (array([0.19636442, 0.04868484]), array([[ 2.78329741e-05, -3.42931725e-04],\n",
      "       [-3.42931725e-04,  5.60317002e-03]]))\n",
      "evergeen\n"
     ]
    },
    {
     "name": "stderr",
     "output_type": "stream",
     "text": [
      "/home/b/b309233/.local/lib/python3.9/site-packages/tzwhere/tzwhere.py:62: VisibleDeprecationWarning: Creating an ndarray from ragged nested sequences (which is a list-or-tuple of lists-or-tuples-or ndarrays with different lengths or shapes) is deprecated. If you meant to do this, you must specify 'dtype=object' when creating the ndarray.\n",
      "  self.timezoneNamesToPolygons[tzname] = WRAP(polys)\n"
     ]
    },
    {
     "name": "stdout",
     "output_type": "stream",
     "text": [
      "Use RU-Fyo at (32.92208, 56.46153) (UTC Offset 3.0)\n"
     ]
    },
    {
     "name": "stderr",
     "output_type": "stream",
     "text": [
      "/home/b/b309233/.local/lib/python3.9/site-packages/tzwhere/tzwhere.py:62: VisibleDeprecationWarning: Creating an ndarray from ragged nested sequences (which is a list-or-tuple of lists-or-tuples-or ndarrays with different lengths or shapes) is deprecated. If you meant to do this, you must specify 'dtype=object' when creating the ndarray.\n",
      "  self.timezoneNamesToPolygons[tzname] = WRAP(polys)\n"
     ]
    },
    {
     "name": "stdout",
     "output_type": "stream",
     "text": [
      "Use FI-Hyy at (24.29477, 61.84741) (UTC Offset 3.0)\n",
      "Use FI-Let at (23.95952, 60.64183) (UTC Offset 3.0)\n",
      "single positional indexer is out-of-bounds\n",
      "single positional indexer is out-of-bounds\n",
      "Use FI-Sod at (26.63859, 67.36239) (UTC Offset 3.0)\n"
     ]
    },
    {
     "name": "stderr",
     "output_type": "stream",
     "text": [
      "/home/b/b309233/.local/lib/python3.9/site-packages/tzwhere/tzwhere.py:62: VisibleDeprecationWarning: Creating an ndarray from ragged nested sequences (which is a list-or-tuple of lists-or-tuples-or ndarrays with different lengths or shapes) is deprecated. If you meant to do this, you must specify 'dtype=object' when creating the ndarray.\n",
      "  self.timezoneNamesToPolygons[tzname] = WRAP(polys)\n"
     ]
    },
    {
     "name": "stdout",
     "output_type": "stream",
     "text": [
      "Use CH-Dav at (9.85591, 46.81533) (UTC Offset 2.0)\n",
      "Use DE-Lkb at (13.30467, 49.09962) (UTC Offset 2.0)\n",
      "Use IT-Lav at (11.28132, 45.9562) (UTC Offset 2.0)\n",
      "Use IT-Ren at (11.43369, 46.58686) (UTC Offset 2.0)\n",
      "Use IT-SRo at (10.28444, 43.72786) (UTC Offset 2.0)\n",
      "single positional indexer is out-of-bounds\n"
     ]
    },
    {
     "name": "stderr",
     "output_type": "stream",
     "text": [
      "/home/b/b309233/.local/lib/python3.9/site-packages/tzwhere/tzwhere.py:62: VisibleDeprecationWarning: Creating an ndarray from ragged nested sequences (which is a list-or-tuple of lists-or-tuples-or ndarrays with different lengths or shapes) is deprecated. If you meant to do this, you must specify 'dtype=object' when creating the ndarray.\n",
      "  self.timezoneNamesToPolygons[tzname] = WRAP(polys)\n"
     ]
    },
    {
     "name": "stdout",
     "output_type": "stream",
     "text": [
      "Use DE-Obe at (13.72129, 50.78666) (UTC Offset 2.0)\n",
      "Use DE-Tha at (13.56515, 50.96256) (UTC Offset 2.0)\n",
      "Use NL-Loo at (5.74356, 52.16658) (UTC Offset 2.0)\n"
     ]
    },
    {
     "name": "stderr",
     "output_type": "stream",
     "text": [
      "/home/b/b309233/.local/lib/python3.9/site-packages/tzwhere/tzwhere.py:62: VisibleDeprecationWarning: Creating an ndarray from ragged nested sequences (which is a list-or-tuple of lists-or-tuples-or ndarrays with different lengths or shapes) is deprecated. If you meant to do this, you must specify 'dtype=object' when creating the ndarray.\n",
      "  self.timezoneNamesToPolygons[tzname] = WRAP(polys)\n"
     ]
    },
    {
     "name": "stdout",
     "output_type": "stream",
     "text": [
      "Use CZ-BK1 at (18.53688, 49.50208) (UTC Offset 2.0)\n",
      "15077\n",
      "nan\n",
      "23.750850627591113\n",
      "-----\n",
      "13.406255081197973\n",
      "(array([1.86970869e-01, 4.84823741e+02]), array([[ 1.26821522e-05, -5.10156401e-02],\n",
      "       [-5.10156401e-02,  2.12922432e+02]])) (array([0.24700609, 0.39827402]), array([[ 6.71643908e-06, -5.60962627e-05],\n",
      "       [-5.60962627e-05,  8.37290447e-04]]))\n",
      "deciduous\n"
     ]
    },
    {
     "name": "stderr",
     "output_type": "stream",
     "text": [
      "/home/b/b309233/.local/lib/python3.9/site-packages/tzwhere/tzwhere.py:62: VisibleDeprecationWarning: Creating an ndarray from ragged nested sequences (which is a list-or-tuple of lists-or-tuples-or ndarrays with different lengths or shapes) is deprecated. If you meant to do this, you must specify 'dtype=object' when creating the ndarray.\n",
      "  self.timezoneNamesToPolygons[tzname] = WRAP(polys)\n"
     ]
    },
    {
     "name": "stdout",
     "output_type": "stream",
     "text": [
      "Use FR-Fon at (2.7801, 48.47636) (UTC Offset 2.0)\n",
      "Use IT-CA1 at (12.02656, 42.38041) (UTC Offset 2.0)\n",
      "Use IT-CA3 at (12.0222, 42.38) (UTC Offset 2.0)\n",
      "Use IT-Ro2 at (11.92093, 42.39026) (UTC Offset 2.0)\n",
      "single positional indexer is out-of-bounds\n"
     ]
    },
    {
     "name": "stderr",
     "output_type": "stream",
     "text": [
      "/home/b/b309233/.local/lib/python3.9/site-packages/tzwhere/tzwhere.py:62: VisibleDeprecationWarning: Creating an ndarray from ragged nested sequences (which is a list-or-tuple of lists-or-tuples-or ndarrays with different lengths or shapes) is deprecated. If you meant to do this, you must specify 'dtype=object' when creating the ndarray.\n",
      "  self.timezoneNamesToPolygons[tzname] = WRAP(polys)\n"
     ]
    },
    {
     "name": "stdout",
     "output_type": "stream",
     "text": [
      "Use DE-Hai at (10.45217, 51.07921) (UTC Offset 2.0)\n",
      "single positional indexer is out-of-bounds\n",
      "Use DE-Lnf at (10.3678, 51.32822) (UTC Offset 2.0)\n",
      "single positional indexer is out-of-bounds\n",
      "Use DK-Sor at (11.64464, 55.48587) (UTC Offset 2.0)\n"
     ]
    },
    {
     "name": "stderr",
     "output_type": "stream",
     "text": [
      "/home/b/b309233/.local/lib/python3.9/site-packages/tzwhere/tzwhere.py:62: VisibleDeprecationWarning: Creating an ndarray from ragged nested sequences (which is a list-or-tuple of lists-or-tuples-or ndarrays with different lengths or shapes) is deprecated. If you meant to do this, you must specify 'dtype=object' when creating the ndarray.\n",
      "  self.timezoneNamesToPolygons[tzname] = WRAP(polys)\n"
     ]
    },
    {
     "name": "stdout",
     "output_type": "stream",
     "text": [
      "Use IT-Col at (13.58814, 41.84936) (UTC Offset 2.0)\n",
      "7683\n",
      "0.6776018059183233\n",
      "25.86183314459042\n",
      "-----\n",
      "13.791124437198413\n",
      "(array([1.38761805e-01, 4.06058066e+02]), array([[ 1.41364635e-05, -5.90416119e-02],\n",
      "       [-5.90416119e-02,  2.54038298e+02]])) (array([0.09924171, 1.56798315]), array([[ 1.17422639e-05, -1.46580458e-04],\n",
      "       [-1.46580458e-04,  2.56688517e-03]]))\n",
      "shrubland\n"
     ]
    },
    {
     "name": "stderr",
     "output_type": "stream",
     "text": [
      "/home/b/b309233/.local/lib/python3.9/site-packages/tzwhere/tzwhere.py:62: VisibleDeprecationWarning: Creating an ndarray from ragged nested sequences (which is a list-or-tuple of lists-or-tuples-or ndarrays with different lengths or shapes) is deprecated. If you meant to do this, you must specify 'dtype=object' when creating the ndarray.\n",
      "  self.timezoneNamesToPolygons[tzname] = WRAP(polys)\n"
     ]
    },
    {
     "name": "stdout",
     "output_type": "stream",
     "text": [
      "Use IT-Noe at (8.15169, 40.60618) (UTC Offset 2.0)\n"
     ]
    },
    {
     "name": "stderr",
     "output_type": "stream",
     "text": [
      "/home/b/b309233/.local/lib/python3.9/site-packages/tzwhere/tzwhere.py:62: VisibleDeprecationWarning: Creating an ndarray from ragged nested sequences (which is a list-or-tuple of lists-or-tuples-or ndarrays with different lengths or shapes) is deprecated. If you meant to do this, you must specify 'dtype=object' when creating the ndarray.\n",
      "  self.timezoneNamesToPolygons[tzname] = WRAP(polys)\n"
     ]
    },
    {
     "name": "stdout",
     "output_type": "stream",
     "text": [
      "Use ES-Amo at (-2.25232, 36.83361) (UTC Offset 2.0)\n",
      "single positional indexer is out-of-bounds\n",
      "Use ES-LJu at (-2.75212, 36.92659) (UTC Offset 2.0)\n",
      "3189\n",
      "0.3173540169060468\n",
      "5.653091486630461\n",
      "-----\n",
      "2.842767044823156\n",
      "(array([1.20329768e-01, 3.86169388e+02]), array([[ 7.74499011e-05, -3.49892739e-01],\n",
      "       [-3.49892739e-01,  1.62523785e+03]])) (array([ 0.08743039, -0.07542279]), array([[ 5.92566328e-06, -1.02738050e-04],\n",
      "       [-1.02738050e-04,  2.05644850e-03]]))\n"
     ]
    }
   ],
   "source": [
    "### target_key  = 'NEE_st_fMDS' # #'GPP_st_MDS' #\n",
    "\n",
    "do_checks = False\n",
    "fit_res_dict_modis = dict()\n",
    "folder = '/work/bd1231/tglauch/VPRM_output_modis_new_sites_new/*.pickle'\n",
    "for cvt, veg_type in enumerate(site_dict.keys()):\n",
    "    # if cvt > 0:\n",
    "    #     continue\n",
    "    print(veg_type)\n",
    "    targets_gpp = []\n",
    "    targets_nee = []\n",
    "    inputs = []\n",
    "    lens = [0]\n",
    "    len0 = 0\n",
    "    for f in glob.glob(folder):\n",
    "        with open(f, 'rb') as ifile:\n",
    "            idata = pickle.load(ifile)\n",
    "        for site in site_dict[veg_type]:\n",
    "            if site not in idata.keys():\n",
    "                continue\n",
    "            tzw = tzwhere.tzwhere()\n",
    "            timezone_str = tzw.tzNameAt(idata[site]['lonlat'][1], idata[site]['lonlat'][0]) # Seville coordinates\n",
    "            timezone = pytz.timezone(timezone_str)\n",
    "            dt = datetime.datetime.now()\n",
    "            if do_checks:\n",
    "                targets = []\n",
    "                inputs = []\n",
    "            print('Use {} at {} (UTC Offset {})'.format(site, idata[site]['lonlat'],\n",
    "                                                        timezone.utcoffset(dt).total_seconds()/3600))\n",
    "            ipt = np.array(idata[site]['input_data'])\n",
    "            tmsp = np.array(idata[site]['input_data_timestamps'])\n",
    "            flxnet = idata[site]['fluxnet_data']\n",
    "            for c, t in enumerate(tmsp):\n",
    "                try:\n",
    "                    if float(flxnet.loc[flxnet['datetime_utc'] == t]['NEE_VUT_REF_QC'].iloc[0])>1:\n",
    "                        continue\n",
    "                    a = float(flxnet.loc[flxnet['datetime_utc'] == t]['NEE_VUT_REF'].iloc[0])\n",
    "                    b = float(flxnet.loc[flxnet['datetime_utc'] == t]['GPP_DT_VUT_REF'].iloc[0])\n",
    "                except Exception as e :\n",
    "                    print(e)\n",
    "                    continue\n",
    "                targets_nee.append(a)\n",
    "                inputs.append(ipt[c])\n",
    "                targets_gpp.append(b)\n",
    "            lens.append(len(targets_gpp)-len0)\n",
    "            len0 = len(targets_gpp)\n",
    "    inds = []\n",
    "    lens = np.array(lens)\n",
    "    if np.sum(lens) == 0:\n",
    "        continue\n",
    "    num_inds_per_site = np.min(lens[lens>0])\n",
    "    cum_len = np.cumsum(lens)\n",
    "    for i in range(len(cum_len)-1):\n",
    "        if cum_len[i] == cum_len[i+1]:\n",
    "            continue\n",
    "        inds.append(np.random.choice(np.arange(cum_len[i], cum_len[i+1]),\n",
    "                                     num_inds_per_site))\n",
    "    inds = np.concatenate(inds)  \n",
    "    inputs = np.array(inputs)[inds]\n",
    "    targets_gpp = np.array(targets_gpp)[inds]\n",
    "    targets_nee = np.array(targets_nee)[inds]\n",
    "    mask = targets_gpp > 0.5\n",
    "    mask_nan = np.all(np.isfinite(inputs), axis=1)\n",
    "    mse_min = 1e4\n",
    "    # inputs[:,0][inputs[:,0]<0] = 0 \n",
    "    print(len(inputs[mask]))\n",
    "    print(np.max(inputs[:,0]))\n",
    "    for i in range(100):\n",
    "        res_gpp_t = curve_fit(lambda x, lamb, par0: (lamb * x[:,1] * x[:,4]  * x[:,3]) * x[:,0] * x[:,2] / (1 + x[:,2]/par0),\n",
    "                        inputs[mask_nan & mask], targets_gpp[mask_nan & mask], maxfev=5000, p0=[np.random.uniform(0,1), np.random.uniform(0,1)]) \n",
    "        spred = (res_gpp_t[0][0] * inputs[:,1] * inputs[:,4]  * inputs[:,3]) * inputs[:,0] * inputs[:,2] / (1 + inputs[:,2]/res_gpp_t[0][1])\n",
    "        mse = (np.square(targets_gpp[mask_nan & mask] - spred[mask_nan & mask])).mean()\n",
    "        if mse < mse_min:\n",
    "            res_gpp = res_gpp_t\n",
    "            mse_min = mse\n",
    "    print(mse_min)\n",
    "    mse_min = 1e4\n",
    "    print('-----')\n",
    "    for i in range(3):\n",
    "        res_nee_t = curve_fit(lambda x, a,b : -(res_gpp[0][0] * x[:,1] * x[:,4]  * x[:,3]) * x[:,0] * x[:,2] / (1 + x[:,2]/res_gpp[0][1]) + a * x[:,5] + b,\n",
    "                        inputs[mask_nan], targets_nee[mask_nan], maxfev=5000, p0=[np.random.uniform(0,1), np.random.uniform(0,1)])  \n",
    "        spred = -(res_gpp[0][0] * inputs[:,1] * inputs[:,4]  * inputs[:,3]) * inputs[:,0] * inputs[:,2] / (1 + inputs[:,2]/res_gpp[0][1]) + res_nee_t[0][0] * (inputs[:,5])  + res_nee_t[0][1]\n",
    "        mse = (np.square(targets_nee[mask_nan] - spred[mask_nan])).mean()\n",
    "        if mse < mse_min:\n",
    "            res_nee = res_nee_t\n",
    "            mse_min = mse\n",
    "    print(mse_min)\n",
    "    print(res_gpp, res_nee)\n",
    "    fit_res_dict_modis[veg_type_id[veg_type]] = [res_gpp, res_nee]\n",
    "    continue\n",
    "    print('Make plots')\n",
    "    target_key  = 'GPP_DT_VUT_REF' #'NEE_VUT_REF' \n",
    "    \n",
    "    for site in site_dict[veg_type]:\n",
    "        spred, targets, tmsp = make_prediction_for_site(site, target_key, res_gpp, res_nee)\n",
    "        if spred is None:\n",
    "            continue\n",
    "        modis_dict[site] = [spred, targets, tmsp]\n",
    "        ax_max = np.max([spred, targets])\n",
    "        ax_min = np.min([spred, targets])\n",
    "        fig, ax = newfig(0.9,ratio=1.0)\n",
    "        ax.scatter(targets, spred, s=3)\n",
    "        ax.set_xlabel('Target')\n",
    "        ax.set_ylabel('Prediction')\n",
    "        ax.text(0.1, 0.9, site,\n",
    "          horizontalalignment='left',\n",
    "          verticalalignment='top',\n",
    "          transform = ax.transAxes)\n",
    "        ax.plot([ax_min, ax_max], [ax_min, ax_max], color='k',\n",
    "             lw=2)\n",
    "        fig.show()\n",
    "\n",
    "        fig, ax = newfig(2.0, ratio=0.3)\n",
    "        ax.plot(range(len(targets)), targets, lw=1, color='k',\n",
    "             marker='o', ms=1)\n",
    "        ax.plot(range(len(spred)), spred, lw=1,\n",
    "             marker='o', ms=1)\n",
    "        ax.text(0.1, 0.9, site,\n",
    "          horizontalalignment='left',\n",
    "          verticalalignment='top',\n",
    "        transform = ax.transAxes)\n",
    "     #   ax.set_xlim(1600, 1800)\n",
    "        fig.show()\n",
    "\n",
    "        month_values_pred = []\n",
    "        temp_values_pred = [] \n",
    "        month_values_truth = []\n",
    "        temp_values_truth = [] \n",
    "        c_month = tmsp[0].month\n",
    "        for c, i in enumerate(tmsp):\n",
    "            if i.month != c_month:\n",
    "                c_month = i.month\n",
    "                month_values_pred.append(np.mean(temp_values_pred))\n",
    "                month_values_truth.append(np.mean(temp_values_truth))\n",
    "                temp_values_truth = [] \n",
    "                temp_values_pred = []\n",
    "            temp_values_pred.append(spred[c])\n",
    "            temp_values_truth.append(targets[c])\n",
    "        fig, ax = newfig(0.9)\n",
    "        ax.plot(range(len(month_values_truth)), month_values_truth, color='k',\n",
    "             marker='o')\n",
    "        ax.plot(range(len(month_values_pred)), month_values_pred, color='b',\n",
    "         marker='o')\n",
    "        ax.text(0.0, 0.9, site,\n",
    "          horizontalalignment='left',\n",
    "          verticalalignment='top',\n",
    "          transform = ax.transAxes)\n",
    "        fig.show()"
   ]
  },
  {
   "cell_type": "code",
   "execution_count": 14,
   "id": "9f3f30bd-0fcd-47f3-8d05-7d2aefd75a3a",
   "metadata": {},
   "outputs": [],
   "source": [
    "with open('/home/b/b309233/fit_res_modis.pickle', 'w+b') as ofile:\n",
    "    pickle.dump(fit_res_dict_modis, ofile)"
   ]
  },
  {
   "cell_type": "code",
   "execution_count": 32,
   "id": "b53dbde6-fe86-400d-9631-23646230eb91",
   "metadata": {},
   "outputs": [
    {
     "name": "stdout",
     "output_type": "stream",
     "text": [
      "1 [1.86970869e-01 4.84823741e+02]\n",
      "2 [1.38761805e-01 4.06058066e+02]\n",
      "3 [1.46116531e-01 4.55775492e+02]\n",
      "4 [1.20329768e-01 3.86169388e+02]\n",
      "6 [1.13850909e-01 5.79096813e+02]\n",
      "7 [1.30562308e-01 4.97523237e+02]\n"
     ]
    }
   ],
   "source": [
    "for i in sorted(fit_res_dict_modis.keys()):\n",
    "    print(i, fit_res_dict_modis[i][0][0])"
   ]
  },
  {
   "cell_type": "code",
   "execution_count": null,
   "id": "18a50e58-f85f-4773-94e3-0ad7176f80a1",
   "metadata": {},
   "outputs": [],
   "source": [
    "for key in modis_dict.keys():\n",
    "    print(key)\n",
    "    inds1 = []\n",
    "    inds2 = []3\n",
    "    for c, t in enumerate(viirs_dict[key][2]):\n",
    "        ti = np.where(t==modis_dict[key][2])[0]\n",
    "        if len(ti)>0:\n",
    "            inds1.append(c)\n",
    "            inds2.append(ti[0])\n",
    "    fig = plt.figure(figsize=figsize(2.0, ratio=0.3))\n",
    "    ax1 = fig.add_axes((0.,0, 0.31, 1.0))\n",
    "    ax2 = fig.add_axes((0.33,0, 0.31, 1.0))\n",
    "    ax3 = fig.add_axes((0.66,0, 0.31, 1.0))\n",
    "    ax1.scatter(modis_dict[key][1][inds2],modis_dict[key][0][inds2], color='k', s=5)\n",
    "    ax2.scatter(viirs_dict[key][1][inds1],viirs_dict[key][0][inds1], color='k', s=5)\n",
    "    ax2.set_ylim(ax1.get_ylim())\n",
    "    ax2.set_yticklabels([])\n",
    "    ax3.hist(viirs_dict[key][0][inds1] - modis_dict[key][0][inds2], bins=30, histtype='step')\n",
    "    ax3.yaxis.tick_right()\n",
    "    ax1.text(0.0, 1.01, key,\n",
    "          horizontalalignment='left',\n",
    "          verticalalignment='bottom',\n",
    "          transform = ax1.transAxes)\n",
    "    fig.show()"
   ]
  },
  {
   "cell_type": "code",
   "execution_count": null,
   "id": "a53948db-632c-4d9d-b7d7-7c7ab5bbef54",
   "metadata": {},
   "outputs": [],
   "source": []
  }
 ],
 "metadata": {
  "kernelspec": {
   "display_name": "Python 3 (based on the module python3/2022.01)",
   "language": "python",
   "name": "python3_2022_01"
  },
  "language_info": {
   "codemirror_mode": {
    "name": "ipython",
    "version": 3
   },
   "file_extension": ".py",
   "mimetype": "text/x-python",
   "name": "python",
   "nbconvert_exporter": "python",
   "pygments_lexer": "ipython3",
   "version": "3.9.9"
  }
 },
 "nbformat": 4,
 "nbformat_minor": 5
}
